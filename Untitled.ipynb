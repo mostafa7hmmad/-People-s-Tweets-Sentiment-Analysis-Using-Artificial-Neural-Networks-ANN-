{
 "cells": [
  {
   "cell_type": "code",
   "execution_count": 1,
   "id": "3d33cda5-2387-4840-aae9-e19fc7c6c00c",
   "metadata": {},
   "outputs": [
    {
     "data": {
      "text/html": [
       "<div style=\"text-align: center;margin-top:20px\"><img src=\"1.jpg\" style=\"max-width: 100%; height: auto;\" /></div>"
      ],
      "text/plain": [
       "<IPython.core.display.HTML object>"
      ]
     },
     "metadata": {},
     "output_type": "display_data"
    }
   ],
   "source": [
    "import pandas as pd\n",
    "import numpy as np\n",
    "import matplotlib.pyplot as plt\n",
    "import seaborn as sns\n",
    "from sklearn.preprocessing import LabelEncoder\n",
    "from sklearn.model_selection import train_test_split\n",
    "from sklearn.metrics import accuracy_score,confusion_matrix\n",
    "import re\n",
    "from tensorflow.keras.preprocessing.text import Tokenizer\n",
    "import nltk\n",
    "from nltk.corpus import stopwords\n",
    "\n",
    "from nltk.stem import PorterStemmer\n",
    "from nltk.tokenize import word_tokenize\n",
    "from tensorflow.keras.preprocessing.sequence import pad_sequences\n",
    "import tensorflow as ts\n",
    "from PIL import Image\n",
    "from tensorflow.keras.models import Sequential\n",
    "from tensorflow.keras.layers import Embedding, Dense, Dropout, LSTM, Bidirectional, BatchNormalization, Flatten\n",
    "from IPython.display import display, HTML\n",
    "\n",
    "image_path = r\"1.jpg\"\n",
    "\n",
    "display(HTML(f'<div style=\"text-align: center;margin-top:20px\"><img src=\"{image_path}\" style=\"max-width: 100%; height: auto;\" /></div>'))"
   ]
  },
  {
   "cell_type": "markdown",
   "id": "37a2470d-bc47-4907-877d-dea9ad9f758a",
   "metadata": {},
   "source": [
    "# ------------- **Twitter Sentiment Analysis using ANN Techniques**\n",
    "# **Broject-OverView**\n",
    " - *Data Collection*\n",
    " - *Data Exploration*\n",
    " - ## Data Preprocessing\n",
    " - *Download Arabic stopwords*\n",
    " - *Text Cleaning*\n",
    " - *Normalize  Letters*\n",
    " - *Remove Stopwords*\n",
    " - ## *Feature Engineering*\n",
    "  - *Tokenization (Convert Text to Numbers)*\n",
    "  - *Convert Tokenized Texts to Sequences*\n",
    "  - *Padding Sequences*\n",
    " - ## *Creating Model*\n",
    " - *Model Evaluation*\n",
    " - *Model Deployment as Web APP* "
   ]
  },
  {
   "cell_type": "code",
   "execution_count": 2,
   "id": "8a3cec8c-61f4-4a78-aaa3-69be229d0a7f",
   "metadata": {},
   "outputs": [
    {
     "data": {
      "text/html": [
       "<div>\n",
       "<style scoped>\n",
       "    .dataframe tbody tr th:only-of-type {\n",
       "        vertical-align: middle;\n",
       "    }\n",
       "\n",
       "    .dataframe tbody tr th {\n",
       "        vertical-align: top;\n",
       "    }\n",
       "\n",
       "    .dataframe thead th {\n",
       "        text-align: right;\n",
       "    }\n",
       "</style>\n",
       "<table border=\"1\" class=\"dataframe\">\n",
       "  <thead>\n",
       "    <tr style=\"text-align: right;\">\n",
       "      <th></th>\n",
       "      <th>textID</th>\n",
       "      <th>text</th>\n",
       "      <th>selected_text</th>\n",
       "      <th>sentiment</th>\n",
       "    </tr>\n",
       "  </thead>\n",
       "  <tbody>\n",
       "    <tr>\n",
       "      <th>0</th>\n",
       "      <td>cb774db0d1</td>\n",
       "      <td>I`d have responded, if I were going</td>\n",
       "      <td>I`d have responded, if I were going</td>\n",
       "      <td>neutral</td>\n",
       "    </tr>\n",
       "    <tr>\n",
       "      <th>1</th>\n",
       "      <td>549e992a42</td>\n",
       "      <td>Sooo SAD I will miss you here in San Diego!!!</td>\n",
       "      <td>Sooo SAD</td>\n",
       "      <td>negative</td>\n",
       "    </tr>\n",
       "    <tr>\n",
       "      <th>2</th>\n",
       "      <td>088c60f138</td>\n",
       "      <td>my boss is bullying me...</td>\n",
       "      <td>bullying me</td>\n",
       "      <td>negative</td>\n",
       "    </tr>\n",
       "    <tr>\n",
       "      <th>3</th>\n",
       "      <td>9642c003ef</td>\n",
       "      <td>what interview! leave me alone</td>\n",
       "      <td>leave me alone</td>\n",
       "      <td>negative</td>\n",
       "    </tr>\n",
       "    <tr>\n",
       "      <th>4</th>\n",
       "      <td>358bd9e861</td>\n",
       "      <td>Sons of ****, why couldn`t they put them on the releases we already bought</td>\n",
       "      <td>Sons of ****,</td>\n",
       "      <td>negative</td>\n",
       "    </tr>\n",
       "    <tr>\n",
       "      <th>...</th>\n",
       "      <td>...</td>\n",
       "      <td>...</td>\n",
       "      <td>...</td>\n",
       "      <td>...</td>\n",
       "    </tr>\n",
       "    <tr>\n",
       "      <th>27476</th>\n",
       "      <td>4eac33d1c0</td>\n",
       "      <td>wish we could come see u on Denver  husband lost his job and can`t afford it</td>\n",
       "      <td>d lost</td>\n",
       "      <td>negative</td>\n",
       "    </tr>\n",
       "    <tr>\n",
       "      <th>27477</th>\n",
       "      <td>4f4c4fc327</td>\n",
       "      <td>I`ve wondered about rake to.  The client has made it clear .NET only, don`t force devs to learn a new lang  #agile #ccnet</td>\n",
       "      <td>, don`t force</td>\n",
       "      <td>negative</td>\n",
       "    </tr>\n",
       "    <tr>\n",
       "      <th>27478</th>\n",
       "      <td>f67aae2310</td>\n",
       "      <td>Yay good for both of you. Enjoy the break - you probably need it after such hectic weekend  Take care hun xxxx</td>\n",
       "      <td>Yay good for both of you.</td>\n",
       "      <td>positive</td>\n",
       "    </tr>\n",
       "    <tr>\n",
       "      <th>27479</th>\n",
       "      <td>ed167662a5</td>\n",
       "      <td>But it was worth it  ****.</td>\n",
       "      <td>But it was worth it  ****.</td>\n",
       "      <td>positive</td>\n",
       "    </tr>\n",
       "    <tr>\n",
       "      <th>27480</th>\n",
       "      <td>6f7127d9d7</td>\n",
       "      <td>All this flirting going on - The ATG smiles. Yay.  ((hugs))</td>\n",
       "      <td>All this flirting going on - The ATG smiles. Yay.  ((hugs)</td>\n",
       "      <td>neutral</td>\n",
       "    </tr>\n",
       "  </tbody>\n",
       "</table>\n",
       "<p>27481 rows × 4 columns</p>\n",
       "</div>"
      ],
      "text/plain": [
       "           textID  \\\n",
       "0      cb774db0d1   \n",
       "1      549e992a42   \n",
       "2      088c60f138   \n",
       "3      9642c003ef   \n",
       "4      358bd9e861   \n",
       "...           ...   \n",
       "27476  4eac33d1c0   \n",
       "27477  4f4c4fc327   \n",
       "27478  f67aae2310   \n",
       "27479  ed167662a5   \n",
       "27480  6f7127d9d7   \n",
       "\n",
       "                                                                                                                             text  \\\n",
       "0                                                                                             I`d have responded, if I were going   \n",
       "1                                                                                   Sooo SAD I will miss you here in San Diego!!!   \n",
       "2                                                                                                       my boss is bullying me...   \n",
       "3                                                                                                  what interview! leave me alone   \n",
       "4                                                      Sons of ****, why couldn`t they put them on the releases we already bought   \n",
       "...                                                                                                                           ...   \n",
       "27476                                                wish we could come see u on Denver  husband lost his job and can`t afford it   \n",
       "27477   I`ve wondered about rake to.  The client has made it clear .NET only, don`t force devs to learn a new lang  #agile #ccnet   \n",
       "27478              Yay good for both of you. Enjoy the break - you probably need it after such hectic weekend  Take care hun xxxx   \n",
       "27479                                                                                                  But it was worth it  ****.   \n",
       "27480                                                                 All this flirting going on - The ATG smiles. Yay.  ((hugs))   \n",
       "\n",
       "                                                    selected_text sentiment  \n",
       "0                             I`d have responded, if I were going   neutral  \n",
       "1                                                        Sooo SAD  negative  \n",
       "2                                                     bullying me  negative  \n",
       "3                                                  leave me alone  negative  \n",
       "4                                                   Sons of ****,  negative  \n",
       "...                                                           ...       ...  \n",
       "27476                                                      d lost  negative  \n",
       "27477                                               , don`t force  negative  \n",
       "27478                                   Yay good for both of you.  positive  \n",
       "27479                                  But it was worth it  ****.  positive  \n",
       "27480  All this flirting going on - The ATG smiles. Yay.  ((hugs)   neutral  \n",
       "\n",
       "[27481 rows x 4 columns]"
      ]
     },
     "execution_count": 2,
     "metadata": {},
     "output_type": "execute_result"
    }
   ],
   "source": [
    "df=pd.read_csv('Tweets.csv')\n",
    "pd.set_option('display.max_colwidth', None)  # Show full content in each cell\n",
    "df"
   ]
  },
  {
   "cell_type": "markdown",
   "id": "f67be23d-26d7-45e8-8e4a-f4db2f827c10",
   "metadata": {},
   "source": [
    "## *Data Exploration*"
   ]
  },
  {
   "cell_type": "code",
   "execution_count": 3,
   "id": "6ae5ec17-f327-4703-87c7-11115ff8049d",
   "metadata": {},
   "outputs": [
    {
     "name": "stdout",
     "output_type": "stream",
     "text": [
      "<class 'pandas.core.frame.DataFrame'>\n",
      "RangeIndex: 27481 entries, 0 to 27480\n",
      "Data columns (total 4 columns):\n",
      " #   Column         Non-Null Count  Dtype \n",
      "---  ------         --------------  ----- \n",
      " 0   textID         27481 non-null  object\n",
      " 1   text           27480 non-null  object\n",
      " 2   selected_text  27480 non-null  object\n",
      " 3   sentiment      27481 non-null  object\n",
      "dtypes: object(4)\n",
      "memory usage: 858.9+ KB\n"
     ]
    }
   ],
   "source": [
    "df.info()"
   ]
  },
  {
   "cell_type": "code",
   "execution_count": 4,
   "id": "413e360f-fe7b-4822-b9ac-f680a7ea1604",
   "metadata": {},
   "outputs": [
    {
     "data": {
      "text/plain": [
       "(27481, 4)"
      ]
     },
     "execution_count": 4,
     "metadata": {},
     "output_type": "execute_result"
    }
   ],
   "source": [
    "df.shape"
   ]
  },
  {
   "cell_type": "code",
   "execution_count": 5,
   "id": "a4b41bb1-81ae-4892-91c8-df8570c2225c",
   "metadata": {},
   "outputs": [
    {
     "data": {
      "text/plain": [
       "textID           object\n",
       "text             object\n",
       "selected_text    object\n",
       "sentiment        object\n",
       "dtype: object"
      ]
     },
     "execution_count": 5,
     "metadata": {},
     "output_type": "execute_result"
    }
   ],
   "source": [
    "df.dtypes"
   ]
  },
  {
   "cell_type": "code",
   "execution_count": 6,
   "id": "d1a8788d-3e1b-42f0-9624-33c1c8686135",
   "metadata": {},
   "outputs": [
    {
     "data": {
      "text/html": [
       "<div>\n",
       "<style scoped>\n",
       "    .dataframe tbody tr th:only-of-type {\n",
       "        vertical-align: middle;\n",
       "    }\n",
       "\n",
       "    .dataframe tbody tr th {\n",
       "        vertical-align: top;\n",
       "    }\n",
       "\n",
       "    .dataframe thead th {\n",
       "        text-align: right;\n",
       "    }\n",
       "</style>\n",
       "<table border=\"1\" class=\"dataframe\">\n",
       "  <thead>\n",
       "    <tr style=\"text-align: right;\">\n",
       "      <th></th>\n",
       "      <th>textID</th>\n",
       "      <th>text</th>\n",
       "      <th>selected_text</th>\n",
       "      <th>sentiment</th>\n",
       "    </tr>\n",
       "  </thead>\n",
       "  <tbody>\n",
       "    <tr>\n",
       "      <th>0</th>\n",
       "      <td>cb774db0d1</td>\n",
       "      <td>I`d have responded, if I were going</td>\n",
       "      <td>I`d have responded, if I were going</td>\n",
       "      <td>neutral</td>\n",
       "    </tr>\n",
       "    <tr>\n",
       "      <th>1</th>\n",
       "      <td>549e992a42</td>\n",
       "      <td>Sooo SAD I will miss you here in San Diego!!!</td>\n",
       "      <td>Sooo SAD</td>\n",
       "      <td>negative</td>\n",
       "    </tr>\n",
       "    <tr>\n",
       "      <th>2</th>\n",
       "      <td>088c60f138</td>\n",
       "      <td>my boss is bullying me...</td>\n",
       "      <td>bullying me</td>\n",
       "      <td>negative</td>\n",
       "    </tr>\n",
       "    <tr>\n",
       "      <th>3</th>\n",
       "      <td>9642c003ef</td>\n",
       "      <td>what interview! leave me alone</td>\n",
       "      <td>leave me alone</td>\n",
       "      <td>negative</td>\n",
       "    </tr>\n",
       "    <tr>\n",
       "      <th>4</th>\n",
       "      <td>358bd9e861</td>\n",
       "      <td>Sons of ****, why couldn`t they put them on the releases we already bought</td>\n",
       "      <td>Sons of ****,</td>\n",
       "      <td>negative</td>\n",
       "    </tr>\n",
       "  </tbody>\n",
       "</table>\n",
       "</div>"
      ],
      "text/plain": [
       "       textID  \\\n",
       "0  cb774db0d1   \n",
       "1  549e992a42   \n",
       "2  088c60f138   \n",
       "3  9642c003ef   \n",
       "4  358bd9e861   \n",
       "\n",
       "                                                                          text  \\\n",
       "0                                          I`d have responded, if I were going   \n",
       "1                                Sooo SAD I will miss you here in San Diego!!!   \n",
       "2                                                    my boss is bullying me...   \n",
       "3                                               what interview! leave me alone   \n",
       "4   Sons of ****, why couldn`t they put them on the releases we already bought   \n",
       "\n",
       "                         selected_text sentiment  \n",
       "0  I`d have responded, if I were going   neutral  \n",
       "1                             Sooo SAD  negative  \n",
       "2                          bullying me  negative  \n",
       "3                       leave me alone  negative  \n",
       "4                        Sons of ****,  negative  "
      ]
     },
     "execution_count": 6,
     "metadata": {},
     "output_type": "execute_result"
    }
   ],
   "source": [
    "df.head()"
   ]
  },
  {
   "cell_type": "code",
   "execution_count": 7,
   "id": "f9e8ef0d-254a-4091-ba4a-7ea3fe90fe9c",
   "metadata": {},
   "outputs": [
    {
     "data": {
      "text/html": [
       "<div>\n",
       "<style scoped>\n",
       "    .dataframe tbody tr th:only-of-type {\n",
       "        vertical-align: middle;\n",
       "    }\n",
       "\n",
       "    .dataframe tbody tr th {\n",
       "        vertical-align: top;\n",
       "    }\n",
       "\n",
       "    .dataframe thead th {\n",
       "        text-align: right;\n",
       "    }\n",
       "</style>\n",
       "<table border=\"1\" class=\"dataframe\">\n",
       "  <thead>\n",
       "    <tr style=\"text-align: right;\">\n",
       "      <th></th>\n",
       "      <th>textID</th>\n",
       "      <th>text</th>\n",
       "      <th>selected_text</th>\n",
       "      <th>sentiment</th>\n",
       "    </tr>\n",
       "  </thead>\n",
       "  <tbody>\n",
       "    <tr>\n",
       "      <th>27476</th>\n",
       "      <td>4eac33d1c0</td>\n",
       "      <td>wish we could come see u on Denver  husband lost his job and can`t afford it</td>\n",
       "      <td>d lost</td>\n",
       "      <td>negative</td>\n",
       "    </tr>\n",
       "    <tr>\n",
       "      <th>27477</th>\n",
       "      <td>4f4c4fc327</td>\n",
       "      <td>I`ve wondered about rake to.  The client has made it clear .NET only, don`t force devs to learn a new lang  #agile #ccnet</td>\n",
       "      <td>, don`t force</td>\n",
       "      <td>negative</td>\n",
       "    </tr>\n",
       "    <tr>\n",
       "      <th>27478</th>\n",
       "      <td>f67aae2310</td>\n",
       "      <td>Yay good for both of you. Enjoy the break - you probably need it after such hectic weekend  Take care hun xxxx</td>\n",
       "      <td>Yay good for both of you.</td>\n",
       "      <td>positive</td>\n",
       "    </tr>\n",
       "    <tr>\n",
       "      <th>27479</th>\n",
       "      <td>ed167662a5</td>\n",
       "      <td>But it was worth it  ****.</td>\n",
       "      <td>But it was worth it  ****.</td>\n",
       "      <td>positive</td>\n",
       "    </tr>\n",
       "    <tr>\n",
       "      <th>27480</th>\n",
       "      <td>6f7127d9d7</td>\n",
       "      <td>All this flirting going on - The ATG smiles. Yay.  ((hugs))</td>\n",
       "      <td>All this flirting going on - The ATG smiles. Yay.  ((hugs)</td>\n",
       "      <td>neutral</td>\n",
       "    </tr>\n",
       "  </tbody>\n",
       "</table>\n",
       "</div>"
      ],
      "text/plain": [
       "           textID  \\\n",
       "27476  4eac33d1c0   \n",
       "27477  4f4c4fc327   \n",
       "27478  f67aae2310   \n",
       "27479  ed167662a5   \n",
       "27480  6f7127d9d7   \n",
       "\n",
       "                                                                                                                             text  \\\n",
       "27476                                                wish we could come see u on Denver  husband lost his job and can`t afford it   \n",
       "27477   I`ve wondered about rake to.  The client has made it clear .NET only, don`t force devs to learn a new lang  #agile #ccnet   \n",
       "27478              Yay good for both of you. Enjoy the break - you probably need it after such hectic weekend  Take care hun xxxx   \n",
       "27479                                                                                                  But it was worth it  ****.   \n",
       "27480                                                                 All this flirting going on - The ATG smiles. Yay.  ((hugs))   \n",
       "\n",
       "                                                    selected_text sentiment  \n",
       "27476                                                      d lost  negative  \n",
       "27477                                               , don`t force  negative  \n",
       "27478                                   Yay good for both of you.  positive  \n",
       "27479                                  But it was worth it  ****.  positive  \n",
       "27480  All this flirting going on - The ATG smiles. Yay.  ((hugs)   neutral  "
      ]
     },
     "execution_count": 7,
     "metadata": {},
     "output_type": "execute_result"
    }
   ],
   "source": [
    "df.tail()"
   ]
  },
  {
   "cell_type": "code",
   "execution_count": 8,
   "id": "e261f263-77ea-4f7d-93b2-85517d9faa43",
   "metadata": {},
   "outputs": [
    {
     "data": {
      "text/plain": [
       "Index(['textID', 'text', 'selected_text', 'sentiment'], dtype='object')"
      ]
     },
     "execution_count": 8,
     "metadata": {},
     "output_type": "execute_result"
    }
   ],
   "source": [
    "df.columns\n"
   ]
  },
  {
   "cell_type": "code",
   "execution_count": 9,
   "id": "4d441d9d-3174-4a8e-a441-693319335b85",
   "metadata": {},
   "outputs": [
    {
     "data": {
      "text/plain": [
       "sentiment\n",
       "neutral     11118\n",
       "positive     8582\n",
       "negative     7781\n",
       "Name: count, dtype: int64"
      ]
     },
     "execution_count": 9,
     "metadata": {},
     "output_type": "execute_result"
    }
   ],
   "source": [
    "df['sentiment'].value_counts()"
   ]
  },
  {
   "cell_type": "code",
   "execution_count": 10,
   "id": "f7cc3abb-6c7d-4038-ac36-66ed70afbee0",
   "metadata": {},
   "outputs": [
    {
     "name": "stderr",
     "output_type": "stream",
     "text": [
      "C:\\Users\\Administrator\\AppData\\Local\\Temp\\ipykernel_9152\\3917256178.py:2: FutureWarning: \n",
      "\n",
      "Passing `palette` without assigning `hue` is deprecated and will be removed in v0.14.0. Assign the `y` variable to `hue` and set `legend=False` for the same effect.\n",
      "\n",
      "  sns.countplot(df,y='sentiment',palette='rocket')\n"
     ]
    },
    {
     "data": {
      "image/png": "[encoded data removed]",
      "text/plain": [
       "<Figure size 1600x400 with 1 Axes>"
      ]
     },
     "metadata": {},
     "output_type": "display_data"
    }
   ],
   "source": [
    "plt.figure(figsize=(16,4))\n",
    "sns.countplot(df,y='sentiment',palette='rocket')\n",
    "plt.tight_layout()\n",
    "plt.show()"
   ]
  },
  {
   "cell_type": "code",
   "execution_count": 11,
   "id": "f3cbff91-0c9c-4857-b6f6-643b380c0c8d",
   "metadata": {},
   "outputs": [
    {
     "data": {
      "text/plain": [
       "textID           0\n",
       "text             1\n",
       "selected_text    1\n",
       "sentiment        0\n",
       "dtype: int64"
      ]
     },
     "execution_count": 11,
     "metadata": {},
     "output_type": "execute_result"
    }
   ],
   "source": [
    "df.isna().sum()"
   ]
  },
  {
   "cell_type": "code",
   "execution_count": 12,
   "id": "9d3ee573-5702-4889-917c-9a137306e029",
   "metadata": {},
   "outputs": [
    {
     "data": {
      "text/plain": [
       "np.int64(0)"
      ]
     },
     "execution_count": 12,
     "metadata": {},
     "output_type": "execute_result"
    }
   ],
   "source": [
    "df.duplicated().sum()"
   ]
  },
  {
   "cell_type": "markdown",
   "id": "960f99ed-96c2-498f-bde2-af57c7e32235",
   "metadata": {},
   "source": [
    "## Data Preprocessing\n",
    " - *Download Arabic stopwords*\n",
    " - *Text Cleaning*\n",
    " - *Normalize Arabic Letters*\n",
    " - *Remove Stopwords*"
   ]
  },
  {
   "cell_type": "code",
   "execution_count": 13,
   "id": "b66148c0-68dd-4946-815a-32adf5f27264",
   "metadata": {},
   "outputs": [],
   "source": [
    "df.drop_duplicates(inplace=True)"
   ]
  },
  {
   "cell_type": "code",
   "execution_count": 14,
   "id": "c1fb7192-8fb0-4b3b-88e2-21be2d099cbe",
   "metadata": {},
   "outputs": [],
   "source": [
    "df.dropna(inplace=True)"
   ]
  },
  {
   "cell_type": "code",
   "execution_count": 15,
   "id": "e6e0c53d-b807-40e8-885e-28be80d8c74a",
   "metadata": {},
   "outputs": [
    {
     "data": {
      "text/plain": [
       "sentiment\n",
       "neutral     11117\n",
       "positive     8582\n",
       "negative     7781\n",
       "Name: count, dtype: int64"
      ]
     },
     "execution_count": 15,
     "metadata": {},
     "output_type": "execute_result"
    }
   ],
   "source": [
    "df.shape\n",
    "df['sentiment'].value_counts()"
   ]
  },
  {
   "cell_type": "code",
   "execution_count": 16,
   "id": "6e935c54-6953-4bad-a49f-962a1253d2dc",
   "metadata": {},
   "outputs": [],
   "source": [
    "df['sentiment']=df['sentiment'].map({'neutral':2,'positive':1,'negative':0})"
   ]
  },
  {
   "cell_type": "markdown",
   "id": "382f24c2-9256-4e3f-b553-9a2611413d43",
   "metadata": {},
   "source": [
    "## *Download  stopwords*"
   ]
  },
  {
   "cell_type": "code",
   "execution_count": 17,
   "id": "e34a490f-7490-4427-9825-432f0c9c9295",
   "metadata": {},
   "outputs": [
    {
     "name": "stderr",
     "output_type": "stream",
     "text": [
      "[nltk_data] Downloading package punkt to\n",
      "[nltk_data]     C:\\Users\\Administrator\\AppData\\Roaming\\nltk_data...\n",
      "[nltk_data]   Package punkt is already up-to-date!\n",
      "[nltk_data] Downloading package stopwords to\n",
      "[nltk_data]     C:\\Users\\Administrator\\AppData\\Roaming\\nltk_data...\n",
      "[nltk_data]   Package stopwords is already up-to-date!\n"
     ]
    },
    {
     "data": {
      "text/plain": [
       "True"
      ]
     },
     "execution_count": 17,
     "metadata": {},
     "output_type": "execute_result"
    }
   ],
   "source": [
    "import nltk\n",
    "nltk.download('punkt')   # Correct dataset for word tokenization\n",
    "nltk.download('stopwords')  # Required for removing stopwords\n"
   ]
  },
  {
   "cell_type": "markdown",
   "id": "a89377b8-c54c-4568-b132-32495792f317",
   "metadata": {},
   "source": [
    "## *Text Cleaning*"
   ]
  },
  {
   "cell_type": "code",
   "execution_count": 18,
   "id": "890d4306-86b6-4927-a112-ee0cd7aab0c5",
   "metadata": {},
   "outputs": [],
   "source": [
    "def clean_text(text):\n",
    "    if pd.isnull(text):  # Handle missing values\n",
    "        return \"\"\n",
    "\n",
    "    # Remove URLs, mentions, hashtags\n",
    "    text = re.sub(r\"http\\S+|www\\S+|@\\S+|#\\S+\", \"\", text)\n",
    "\n",
    "    # Remove numbers and special characters (keep only English letters and spaces)\n",
    "    text = re.sub(r\"[^a-zA-Z ]\", \"\", text)\n",
    "\n",
    "    return text\n",
    "\n",
    "# Apply cleaning function\n",
    "df[\"cleaned_text\"] = df[\"text\"].apply(clean_text)"
   ]
  },
  {
   "cell_type": "markdown",
   "id": "427d0a2d-e9f1-4b22-8b2e-0787646bf51c",
   "metadata": {},
   "source": [
    "## *Normalize  Letters*"
   ]
  },
  {
   "cell_type": "code",
   "execution_count": 19,
   "id": "fc61944f-be62-4048-a73a-4053b8759249",
   "metadata": {},
   "outputs": [],
   "source": [
    "import re\n",
    "\n",
    "def normalize_english(text):\n",
    "    text = text.lower()  # Convert to lowercase\n",
    "    text = re.sub(r\"\\b(’s)\\b\", \"\", text)  # Remove possessive 's\n",
    "    text = re.sub(r\"\\s+\", \" \", text).strip()  # Remove extra spaces\n",
    "    return text\n",
    "\n",
    "# Apply normalization\n",
    "df[\"cleaned_text\"] = df[\"cleaned_text\"].apply(normalize_english)\n"
   ]
  },
  {
   "cell_type": "markdown",
   "id": "bebfcf94-60b4-4d21-9d5b-4add9e77715a",
   "metadata": {},
   "source": [
    "## *Remove Stopwords*"
   ]
  },
  {
   "cell_type": "code",
   "execution_count": 20,
   "id": "f7dd436e-fb97-48ab-92e8-27fe0a5da610",
   "metadata": {},
   "outputs": [
    {
     "name": "stderr",
     "output_type": "stream",
     "text": [
      "[nltk_data] Downloading package stopwords to\n",
      "[nltk_data]     C:\\Users\\Administrator\\AppData\\Roaming\\nltk_data...\n",
      "[nltk_data]   Package stopwords is already up-to-date!\n"
     ]
    }
   ],
   "source": [
    "\n",
    "\n",
    "# Download stopwords if not already downloaded\n",
    "nltk.download('stopwords')\n",
    "\n",
    "# Load English stopwords\n",
    "english_stopwords = set(stopwords.words(\"english\"))\n",
    "\n",
    "def remove_stopwords(text):\n",
    "    words = text.split()\n",
    "    filtered_words = [word for word in words if word not in english_stopwords]\n",
    "    return \" \".join(filtered_words)\n",
    "\n",
    "# Apply stopword removal\n",
    "df[\"cleaned_text\"] = df[\"cleaned_text\"].apply(remove_stopwords)\n",
    "\n",
    "# Save cleaned data to CSV\n"
   ]
  },
  {
   "cell_type": "code",
   "execution_count": 21,
   "id": "d79b1fa5-66be-4f8f-9569-081dd3e9ee7d",
   "metadata": {},
   "outputs": [
    {
     "name": "stderr",
     "output_type": "stream",
     "text": [
      "[nltk_data] Downloading package punkt to\n",
      "[nltk_data]     C:\\Users\\Administrator\\AppData\\Roaming\\nltk_data...\n",
      "[nltk_data]   Package punkt is already up-to-date!\n"
     ]
    }
   ],
   "source": [
    "import nltk\n",
    "from nltk.stem import PorterStemmer\n",
    "from nltk.tokenize import word_tokenize\n",
    "\n",
    "# Download required resources\n",
    "nltk.download('punkt')\n",
    "\n",
    "# Initialize the stemmer\n",
    "stemmer = PorterStemmer()\n",
    "\n",
    "def apply_stemming(text):\n",
    "    if not isinstance(text, str):\n",
    "        return \"\"\n",
    "\n",
    "    # Apply stemming\n",
    "    stemmed_words = [stemmer.stem(word) for word in words]\n",
    "\n",
    "    # Reconstruct the text\n",
    "    return \" \".join(stemmed_words)\n",
    "\n",
    "df['cleaned_text_2'] = apply_stemming(df['cleaned_text'])\n"
   ]
  },
  {
   "cell_type": "code",
   "execution_count": 22,
   "id": "915a0a72-6872-4c82-a5ac-9f99ac47398a",
   "metadata": {},
   "outputs": [],
   "source": [
    "df.to_csv(\"cleaned_sentiment.csv\", index=False, encoding=\"utf-8\")\n"
   ]
  },
  {
   "cell_type": "code",
   "execution_count": 23,
   "id": "97c79e62-e0e8-447e-bd70-503ddb52e890",
   "metadata": {},
   "outputs": [],
   "source": [
    "df=pd.read_csv('cleaned_sentiment.csv',usecols=['sentiment','cleaned_text'])\n",
    "df.dropna(inplace=True)"
   ]
  },
  {
   "cell_type": "markdown",
   "id": "71a8257a-0aee-47c0-852c-dc1f9070ecd3",
   "metadata": {},
   "source": [
    "## *Feature Engineering*\n"
   ]
  },
  {
   "cell_type": "code",
   "execution_count": 24,
   "id": "a61eb368-1ee9-4495-b675-96b326dbf292",
   "metadata": {},
   "outputs": [],
   "source": [
    "# إعداد Tokenizer\n",
    "tokenizer = Tokenizer(num_words=10000, oov_token=\"<OOV>\")\n",
    "tokenizer.fit_on_texts(df[\"cleaned_text\"])\n",
    "sequences = tokenizer.texts_to_sequences(df[\"cleaned_text\"])\n",
    "\n",
    "# تطبيق Padding باستخدام max_length المناسب\n",
    "max_length = 15  # يمكن تغييره إلى 15 لو أردت تغطية أكبر\n",
    "\n",
    "\n"
   ]
  },
  {
   "cell_type": "markdown",
   "id": "86e0950c-9ca7-4061-922b-31d9269192b4",
   "metadata": {},
   "source": [
    "## Split Data into Train and Test"
   ]
  },
  {
   "cell_type": "code",
   "execution_count": 25,
   "id": "e0e7c41b-3166-4cf3-8ad8-a4dec7fc8979",
   "metadata": {},
   "outputs": [
    {
     "data": {
      "text/plain": [
       "(27409, 15)"
      ]
     },
     "execution_count": 25,
     "metadata": {},
     "output_type": "execute_result"
    }
   ],
   "source": [
    "X = pad_sequences(sequences, maxlen=max_length, padding=\"post\")\n",
    "y=df['sentiment'].values\n",
    "x_train, x_test, y_train, y_test = train_test_split(X, y, test_size=0.2, random_state=42)\n",
    "X.shape"
   ]
  },
  {
   "cell_type": "markdown",
   "id": "0211d3c9-e49d-4e24-94e2-a6a53a68e09e",
   "metadata": {},
   "source": [
    "### Let's Create ANN "
   ]
  },
  {
   "cell_type": "code",
   "execution_count": 26,
   "id": "79b501a8-3e63-4c18-ab7f-488879c7fddd",
   "metadata": {},
   "outputs": [
    {
     "name": "stderr",
     "output_type": "stream",
     "text": [
      "C:\\Users\\Administrator\\AppData\\Local\\Programs\\Python\\Python310\\lib\\site-packages\\keras\\src\\layers\\core\\embedding.py:90: UserWarning: Argument `input_length` is deprecated. Just remove it.\n",
      "  warnings.warn(\n"
     ]
    }
   ],
   "source": [
    "vocab_size = 10000  # عدد الكلمات الفريدة المستخدمة في الـ Tokenizer\n",
    "embedding_dim = 128  # عدد الأبعاد المستخدمة لتمثيل الكلمات (يمكن تغييره إلى 200 أو 300)\n",
    "max_length = 20  # نفس طول الجمل المستخدم في الـ padding\n",
    "\n",
    "# بناء الموديل\n",
    "model = Sequential([\n",
    "    Embedding(input_dim=vocab_size, output_dim=embedding_dim, input_length=max_length),\n",
    "    Bidirectional(LSTM(32, return_sequences=True)),  # LSTM ثنائي الاتجاه لفهم سياق الكلمات\n",
    "    Dropout(0.3),\n",
    "    BatchNormalization(),\n",
    "\n",
    "    Bidirectional(LSTM(16, return_sequences=False)),\n",
    "    BatchNormalization(),\n",
    "\n",
    "    Dense(8, activation=\"relu\"),\n",
    "    BatchNormalization(),\n",
    "\n",
    "    Dense(3, activation=\"softmax\")  # التصنيف إلى 3 فئات\n",
    "])\n",
    "\n",
    "model.compile(optimizer=\"adam\", loss=\"sparse_categorical_crossentropy\", metrics=[\"accuracy\"])"
   ]
  },
  {
   "cell_type": "code",
   "execution_count": 30,
   "id": "8dfa49ee-11a0-464f-b215-fbe4faf490df",
   "metadata": {},
   "outputs": [
    {
     "name": "stdout",
     "output_type": "stream",
     "text": [
      "Epoch 1/10\n",
      "\u001b[1m686/686\u001b[0m \u001b[32m━━━━━━━━━━━━━━━━━━━━\u001b[0m\u001b[37m\u001b[0m \u001b[1m28s\u001b[0m 31ms/step - accuracy: 0.5014 - loss: 1.0312 - val_accuracy: 0.6618 - val_loss: 0.7809\n",
      "Epoch 2/10\n",
      "\u001b[1m686/686\u001b[0m \u001b[32m━━━━━━━━━━━━━━━━━━━━\u001b[0m\u001b[37m\u001b[0m \u001b[1m21s\u001b[0m 30ms/step - accuracy: 0.7455 - loss: 0.6192 - val_accuracy: 0.6768 - val_loss: 0.7769\n",
      "Epoch 3/10\n",
      "\u001b[1m686/686\u001b[0m \u001b[32m━━━━━━━━━━━━━━━━━━━━\u001b[0m\u001b[37m\u001b[0m \u001b[1m21s\u001b[0m 30ms/step - accuracy: 0.8162 - loss: 0.4794 - val_accuracy: 0.6614 - val_loss: 0.9623\n",
      "Epoch 4/10\n",
      "\u001b[1m686/686\u001b[0m \u001b[32m━━━━━━━━━━━━━━━━━━━━\u001b[0m\u001b[37m\u001b[0m \u001b[1m21s\u001b[0m 31ms/step - accuracy: 0.8590 - loss: 0.3759 - val_accuracy: 0.6696 - val_loss: 1.0179\n",
      "Epoch 5/10\n",
      "\u001b[1m686/686\u001b[0m \u001b[32m━━━━━━━━━━━━━━━━━━━━\u001b[0m\u001b[37m\u001b[0m \u001b[1m21s\u001b[0m 30ms/step - accuracy: 0.8822 - loss: 0.3185 - val_accuracy: 0.6748 - val_loss: 1.0446\n",
      "Epoch 6/10\n",
      "\u001b[1m686/686\u001b[0m \u001b[32m━━━━━━━━━━━━━━━━━━━━\u001b[0m\u001b[37m\u001b[0m \u001b[1m21s\u001b[0m 30ms/step - accuracy: 0.9002 - loss: 0.2704 - val_accuracy: 0.6673 - val_loss: 1.1623\n",
      "Epoch 7/10\n",
      "\u001b[1m686/686\u001b[0m \u001b[32m━━━━━━━━━━━━━━━━━━━━\u001b[0m\u001b[37m\u001b[0m \u001b[1m21s\u001b[0m 31ms/step - accuracy: 0.9172 - loss: 0.2315 - val_accuracy: 0.6390 - val_loss: 1.1894\n",
      "Epoch 8/10\n",
      "\u001b[1m686/686\u001b[0m \u001b[32m━━━━━━━━━━━━━━━━━━━━\u001b[0m\u001b[37m\u001b[0m \u001b[1m21s\u001b[0m 31ms/step - accuracy: 0.9249 - loss: 0.2015 - val_accuracy: 0.6512 - val_loss: 1.2818\n",
      "Epoch 9/10\n",
      "\u001b[1m686/686\u001b[0m \u001b[32m━━━━━━━━━━━━━━━━━━━━\u001b[0m\u001b[37m\u001b[0m \u001b[1m21s\u001b[0m 31ms/step - accuracy: 0.9373 - loss: 0.1750 - val_accuracy: 0.6532 - val_loss: 1.3659\n",
      "Epoch 10/10\n",
      "\u001b[1m686/686\u001b[0m \u001b[32m━━━━━━━━━━━━━━━━━━━━\u001b[0m\u001b[37m\u001b[0m \u001b[1m41s\u001b[0m 31ms/step - accuracy: 0.9363 - loss: 0.1791 - val_accuracy: 0.6563 - val_loss: 1.4248\n"
     ]
    },
    {
     "data": {
      "text/plain": [
       "<keras.src.callbacks.history.History at 0x22e9ef978b0>"
      ]
     },
     "execution_count": 30,
     "metadata": {},
     "output_type": "execute_result"
    }
   ],
   "source": [
    "from sklearn.utils.class_weight import compute_class_weight\n",
    "class_weights = compute_class_weight(\"balanced\", classes=np.unique(y_train), y=y_train)\n",
    "class_weights_dict = {i: weight for i, weight in enumerate(class_weights)}\n",
    "\n",
    "# تدريب النموذج مع class_weight\n",
    "model.fit(x_train, y_train, batch_size=32, epochs=10, validation_data=(x_test, y_test), class_weight=class_weights_dict)"
   ]
  },
  {
   "cell_type": "code",
   "execution_count": 31,
   "id": "2c8b5cc9-8779-42fd-8576-94c4f096d828",
   "metadata": {},
   "outputs": [
    {
     "name": "stdout",
     "output_type": "stream",
     "text": [
      "\u001b[1m172/172\u001b[0m \u001b[32m━━━━━━━━━━━━━━━━━━━━\u001b[0m\u001b[37m\u001b[0m \u001b[1m2s\u001b[0m 7ms/step    \n"
     ]
    }
   ],
   "source": [
    "y_pre = model.predict(x_test)  # Get class probabilities\n",
    "y_pre = np.argmax(y_pre, axis=1)  # Convert probabilities to class labels\n"
   ]
  },
  {
   "cell_type": "code",
   "execution_count": 32,
   "id": "c3d30ab3-6752-4214-9641-3823ce4adbcb",
   "metadata": {},
   "outputs": [
    {
     "data": {
      "text/plain": [
       "0.6563298066399125"
      ]
     },
     "execution_count": 32,
     "metadata": {},
     "output_type": "execute_result"
    }
   ],
   "source": [
    "accuracy_score(y_test,y_pre)"
   ]
  },
  {
   "cell_type": "code",
   "execution_count": 39,
   "id": "d6e9c8c6-201e-4608-bfbc-7b1979684220",
   "metadata": {},
   "outputs": [
    {
     "name": "stderr",
     "output_type": "stream",
     "text": [
      "WARNING:absl:You are saving your model as an HDF5 file via `model.save()` or `keras.saving.save_model(model)`. This file format is considered legacy. We recommend using instead the native Keras format, e.g. `model.save('my_model.keras')` or `keras.saving.save_model(model, 'my_model.keras')`. \n"
     ]
    }
   ],
   "source": [
    "# حفظ النموذج\n",
    "model.save(\"sentiment_model.h5\")\n",
    "\n",
    "# حفظ Tokenizer\n",
    "import pickle\n",
    "with open(\"tokenizer.pkl\", \"wb\") as file:\n",
    "    pickle.dump(tokenizer, file)\n"
   ]
  },
  {
   "cell_type": "code",
   "execution_count": null,
   "id": "bc2b7bda-4f71-4fb6-b480-4cb1eea8fd42",
   "metadata": {},
   "outputs": [],
   "source": []
  }
 ],
 "metadata": {
  "kernelspec": {
   "display_name": "Python 3 (ipykernel)",
   "language": "python",
   "name": "python3"
  },
  "language_info": {
   "codemirror_mode": {
    "name": "ipython",
    "version": 3
   },
   "file_extension": ".py",
   "mimetype": "text/x-python",
   "name": "python",
   "nbconvert_exporter": "python",
   "pygments_lexer": "ipython3",
   "version": "3.10.2"
  }
 },
 "nbformat": 4,
 "nbformat_minor": 5
}
